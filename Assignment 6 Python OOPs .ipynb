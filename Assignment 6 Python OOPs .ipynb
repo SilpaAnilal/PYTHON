{
 "cells": [
  {
   "cell_type": "markdown",
   "id": "010b6e0f",
   "metadata": {},
   "source": [
    "# Exercise 1"
   ]
  },
  {
   "cell_type": "code",
   "execution_count": 1,
   "id": "fa600946",
   "metadata": {},
   "outputs": [
    {
     "name": "stdout",
     "output_type": "stream",
     "text": [
      "Core Courses:\n",
      "Course Code: CS101\n",
      "Course Name: Introduction to Computer Science\n",
      "Credit Hours: 3\n",
      "Required for Major: Yes\n",
      "Course Code: MATH101\n",
      "Course Name: Calculus I\n",
      "Credit Hours: 4\n",
      "Required for Major: Yes\n",
      "Elective Courses:\n",
      "Course Code: ART101\n",
      "Course Name: Art History\n",
      "Credit Hours: 3\n",
      "Elective Type: liberal arts\n",
      "Course Code: PHIL101\n",
      "Course Name: Philosophy 101\n",
      "Credit Hours: 3\n",
      "Elective Type: general\n"
     ]
    }
   ],
   "source": [
    "class Course:\n",
    "    def __init__(self, course_code, course_name, credit_hours):\n",
    "        self.course_code = course_code\n",
    "        self.course_name = course_name\n",
    "        self.credit_hours = credit_hours\n",
    "\n",
    "    def display_course_info(self):\n",
    "        print(f\"Course Code: {self.course_code}\")\n",
    "        print(f\"Course Name: {self.course_name}\")\n",
    "        print(f\"Credit Hours: {self.credit_hours}\")\n",
    "\n",
    "class CoreCourse(Course):\n",
    "    def __init__(self, course_code, course_name, credit_hours, required_for_major):\n",
    "        super().__init__(course_code, course_name, credit_hours)\n",
    "        self.required_for_major = required_for_major\n",
    "\n",
    "    def display_course_info(self):\n",
    "        super().display_course_info()\n",
    "        print(f\"Required for Major: {'Yes' if self.required_for_major else 'No'}\")\n",
    "\n",
    "class ElectiveCourse(Course):\n",
    "    def __init__(self, course_code, course_name, credit_hours, elective_type):\n",
    "        super().__init__(course_code, course_name, credit_hours)\n",
    "        self.elective_type = elective_type\n",
    "\n",
    "    def display_course_info(self):\n",
    "        super().display_course_info()\n",
    "        print(f\"Elective Type: {self.elective_type}\")\n",
    "\n",
    "core_course_1 = CoreCourse(\"CS101\", \"Introduction to Computer Science\", 3, True)\n",
    "core_course_2 = CoreCourse(\"MATH101\", \"Calculus I\", 4, True)\n",
    "\n",
    "elective_course_1 = ElectiveCourse(\"ART101\", \"Art History\", 3, \"liberal arts\")\n",
    "elective_course_2 = ElectiveCourse(\"PHIL101\", \"Philosophy 101\", 3, \"general\")\n",
    "\n",
    "print(\"Core Courses:\")\n",
    "core_course_1.display_course_info()\n",
    "core_course_2.display_course_info()\n",
    "\n",
    "print(\"Elective Courses:\")\n",
    "elective_course_1.display_course_info()\n",
    "elective_course_2.display_course_info()\n"
   ]
  },
  {
   "cell_type": "markdown",
   "id": "06c876b6",
   "metadata": {},
   "source": [
    "# Exercise 2"
   ]
  },
  {
   "cell_type": "code",
   "execution_count": 2,
   "id": "39ede7f4",
   "metadata": {},
   "outputs": [
    {
     "name": "stdout",
     "output_type": "stream",
     "text": [
      "Employee 1 Name: Meera Vasudev, Salary: 60000\n",
      "Employee 2 Name: Niom Darsh, Salary: 75000\n"
     ]
    }
   ],
   "source": [
    "from employee import Employee\n",
    "\n",
    "employee_1 = Employee(\"Meera Vasudev\", 60000)\n",
    "employee_2 = Employee(\"Niom Darsh\", 75000)\n",
    "\n",
    "print(f\"Employee 1 Name: {employee_1.get_name()}, Salary: {employee_1.get_salary()}\")\n",
    "print(f\"Employee 2 Name: {employee_2.get_name()}, Salary: {employee_2.get_salary()}\")\n",
    "\n"
   ]
  },
  {
   "cell_type": "code",
   "execution_count": 3,
   "id": "c45c2598",
   "metadata": {},
   "outputs": [],
   "source": [
    "# Content of the imported module\n",
    "class Employee:\n",
    "    def __init__(self, name, salary):\n",
    "        self.name = name\n",
    "        self.salary = salary\n",
    "\n",
    "    def get_name(self):\n",
    "        return self.name\n",
    "\n",
    "    def get_salary(self):\n",
    "        return self.salary\n"
   ]
  },
  {
   "cell_type": "code",
   "execution_count": null,
   "id": "73d4e708",
   "metadata": {},
   "outputs": [],
   "source": []
  }
 ],
 "metadata": {
  "kernelspec": {
   "display_name": "Python 3 (ipykernel)",
   "language": "python",
   "name": "python3"
  },
  "language_info": {
   "codemirror_mode": {
    "name": "ipython",
    "version": 3
   },
   "file_extension": ".py",
   "mimetype": "text/x-python",
   "name": "python",
   "nbconvert_exporter": "python",
   "pygments_lexer": "ipython3",
   "version": "3.10.9"
  }
 },
 "nbformat": 4,
 "nbformat_minor": 5
}
