{
 "cells": [
  {
   "cell_type": "markdown",
   "id": "8fdb5e0c",
   "metadata": {},
   "source": [
    "# Exercise 1"
   ]
  },
  {
   "cell_type": "code",
   "execution_count": 1,
   "id": "dc7bd5b7",
   "metadata": {},
   "outputs": [],
   "source": [
    "file=open('Exercise_1','w')\n",
    "file.write(\"Hello, Welcome to the World of Python.\")\n",
    "file.close()\n"
   ]
  },
  {
   "cell_type": "code",
   "execution_count": 2,
   "id": "77e09ce9",
   "metadata": {},
   "outputs": [
    {
     "name": "stdout",
     "output_type": "stream",
     "text": [
      "The content of the file is: Hello, Welcome to the World of Python.\n"
     ]
    }
   ],
   "source": [
    "with open('Exercise_1','r') as file:\n",
    "    content=file.read()\n",
    "    print('The content of the file is:',content)"
   ]
  },
  {
   "cell_type": "markdown",
   "id": "c8549a2e",
   "metadata": {},
   "source": [
    "# Exercise 2"
   ]
  },
  {
   "cell_type": "code",
   "execution_count": 3,
   "id": "029d1f3b",
   "metadata": {},
   "outputs": [
    {
     "name": "stdout",
     "output_type": "stream",
     "text": [
      "Contents copied from 'Exercise_1' to 'destination'\n"
     ]
    }
   ],
   "source": [
    "with open('Exercise_1', 'r') as source:\n",
    "    contents = source.read()\n",
    "\n",
    "with open('destination', 'w') as dest:\n",
    "    dest.write(contents)\n",
    "\n",
    "print(f\"Contents copied from 'Exercise_1' to 'destination'\")\n"
   ]
  },
  {
   "cell_type": "code",
   "execution_count": 4,
   "id": "6fe41556",
   "metadata": {},
   "outputs": [
    {
     "name": "stdout",
     "output_type": "stream",
     "text": [
      "Hello, Welcome to the World of Python.\n"
     ]
    }
   ],
   "source": [
    "#to check\n",
    "with open('destination', 'r') as a:\n",
    "    c= a.read()\n",
    "    print(c)\n"
   ]
  },
  {
   "cell_type": "markdown",
   "id": "f536dfb9",
   "metadata": {},
   "source": [
    "# Exercise 3"
   ]
  },
  {
   "cell_type": "code",
   "execution_count": 5,
   "id": "5e82b80c",
   "metadata": {},
   "outputs": [
    {
     "name": "stdout",
     "output_type": "stream",
     "text": [
      "Total number of words: 7\n"
     ]
    }
   ],
   "source": [
    " with open('Exercise_1', 'r') as file:\n",
    "    contents = file.read()\n",
    "    words = contents.split()\n",
    "    word_count = len(words)\n",
    "    print(f\"Total number of words: {word_count}\")"
   ]
  },
  {
   "cell_type": "markdown",
   "id": "c1fbd440",
   "metadata": {},
   "source": [
    "# Exercise 4"
   ]
  },
  {
   "cell_type": "code",
   "execution_count": 6,
   "id": "75451fb5",
   "metadata": {},
   "outputs": [
    {
     "name": "stdout",
     "output_type": "stream",
     "text": [
      "Enter a number: 5asd\n",
      "Invalid input! Please enter a valid integer.\n"
     ]
    }
   ],
   "source": [
    "user_input = input(\"Enter a number: \")\n",
    "try:\n",
    "    number = int(user_input)\n",
    "    print(f\"Converted number: {number}\")\n",
    "except ValueError:\n",
    "    print(\"Invalid input! Please enter a valid integer.\")\n",
    "    "
   ]
  },
  {
   "cell_type": "markdown",
   "id": "7e02115a",
   "metadata": {},
   "source": [
    "# Exercise 5"
   ]
  },
  {
   "cell_type": "code",
   "execution_count": 7,
   "id": "29cca37c",
   "metadata": {},
   "outputs": [
    {
     "name": "stdout",
     "output_type": "stream",
     "text": [
      "Please enter a list of integers separated by spaces: 5 -8 7\n",
      "Error: Negative integer found: -8. All integers must be non-negative.\n"
     ]
    }
   ],
   "source": [
    "def integers_from_user():\n",
    "    user_input = input(\"Please enter a list of integers separated by spaces: \")\n",
    "\n",
    "    try:\n",
    "        integers = list(map(int, user_input.split()))\n",
    "    except ValueError:\n",
    "        print(\"Error: Please enter only integers.\")\n",
    "        \n",
    "    \n",
    "    for n in integers:\n",
    "        if n < 0:\n",
    "            print(f\"Error: Negative integer found: {n}. All integers must be non-negative.\")\n",
    "            return []\n",
    "    \n",
    "    return integers\n",
    "\n",
    "numbers = integers_from_user()\n",
    "if numbers:\n",
    "    print(\"You entered:\", numbers)\n"
   ]
  },
  {
   "cell_type": "markdown",
   "id": "27200748",
   "metadata": {},
   "source": [
    "# Exercise 6"
   ]
  },
  {
   "cell_type": "code",
   "execution_count": 8,
   "id": "3893655f",
   "metadata": {},
   "outputs": [
    {
     "name": "stdout",
     "output_type": "stream",
     "text": [
      "Please enter a list of integers separated by spaces: 9 h 8 7\n",
      "Error: invalid literal for int() with base 10: 'h'\n",
      "Program has finished running.\n"
     ]
    }
   ],
   "source": [
    "try:\n",
    "    user_input = input(\"Please enter a list of integers separated by spaces: \")\n",
    "       \n",
    "    integers = list(map(int, user_input.split()))\n",
    "        \n",
    "    if not integers:\n",
    "            raise ValueError(\"The list cannot be empty.\")\n",
    "        \n",
    "    average = sum(integers) / len(integers)\n",
    "    print(f\"The average of the entered integers is: {average}\")\n",
    "        \n",
    "except ZeroDivisionError:\n",
    "        print(\"Error: Division by zero occurred while calculating the average.\")\n",
    "except ValueError as e:\n",
    "        print(f\"Error: {e}\")\n",
    "except Exception as e:\n",
    "        print(f\"An unexpected error occurred: {e}\")\n",
    "    \n",
    "finally:\n",
    "        print(\"Program has finished running.\")\n"
   ]
  },
  {
   "cell_type": "markdown",
   "id": "bc8324a3",
   "metadata": {},
   "source": [
    "# Exercise 7 "
   ]
  },
  {
   "cell_type": "code",
   "execution_count": 9,
   "id": "7022db07",
   "metadata": {},
   "outputs": [
    {
     "name": "stdout",
     "output_type": "stream",
     "text": [
      "Please enter the filename: Demo\n",
      "File 'Demo' has been written successfully!\n",
      "Program execution finished.\n"
     ]
    }
   ],
   "source": [
    "try:\n",
    "    filename = input(\"Please enter the filename: \")\n",
    "    \n",
    "    with open(filename, 'w') as file:\n",
    "            file.write(\"Hello, this is a demo string!\")\n",
    "        \n",
    "    print(f\"File '{filename}' has been written successfully!\")\n",
    "    \n",
    "except FileNotFoundError:\n",
    "        print(\"Error: The file could not be found.\")\n",
    "except Exception as e:\n",
    "        print(f\"An unexpected error occurred: {e}\")\n",
    "    \n",
    "finally:\n",
    "        print(\"Program execution finished.\")\n"
   ]
  },
  {
   "cell_type": "code",
   "execution_count": null,
   "id": "16b350b8",
   "metadata": {},
   "outputs": [],
   "source": []
  }
 ],
 "metadata": {
  "kernelspec": {
   "display_name": "Python 3 (ipykernel)",
   "language": "python",
   "name": "python3"
  },
  "language_info": {
   "codemirror_mode": {
    "name": "ipython",
    "version": 3
   },
   "file_extension": ".py",
   "mimetype": "text/x-python",
   "name": "python",
   "nbconvert_exporter": "python",
   "pygments_lexer": "ipython3",
   "version": "3.10.9"
  }
 },
 "nbformat": 4,
 "nbformat_minor": 5
}
