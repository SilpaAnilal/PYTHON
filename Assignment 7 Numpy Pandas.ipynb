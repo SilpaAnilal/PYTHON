{
 "cells": [
  {
   "cell_type": "markdown",
   "id": "adab4fff",
   "metadata": {},
   "source": [
    "# Exercise 1"
   ]
  },
  {
   "cell_type": "code",
   "execution_count": 1,
   "id": "d6fdff39",
   "metadata": {},
   "outputs": [],
   "source": [
    "import numpy as np\n",
    "import pandas as pd"
   ]
  },
  {
   "cell_type": "code",
   "execution_count": 2,
   "id": "1e3b07bc",
   "metadata": {},
   "outputs": [],
   "source": [
    "array=np.arange(1,11)"
   ]
  },
  {
   "cell_type": "code",
   "execution_count": 3,
   "id": "8ee97163",
   "metadata": {},
   "outputs": [],
   "source": [
    "reshape=array.reshape(2,5)"
   ]
  },
  {
   "cell_type": "code",
   "execution_count": 4,
   "id": "6f3f19b1",
   "metadata": {},
   "outputs": [
    {
     "data": {
      "text/plain": [
       "array([[ 1,  2,  3,  4,  5],\n",
       "       [ 6,  7,  8,  9, 10]])"
      ]
     },
     "execution_count": 4,
     "metadata": {},
     "output_type": "execute_result"
    }
   ],
   "source": [
    "reshape"
   ]
  },
  {
   "cell_type": "markdown",
   "id": "d1a693a3",
   "metadata": {},
   "source": [
    "# Exercise 2"
   ]
  },
  {
   "cell_type": "code",
   "execution_count": 5,
   "id": "1ea708b5",
   "metadata": {},
   "outputs": [],
   "source": [
    "array_2=np.arange(1,21)"
   ]
  },
  {
   "cell_type": "code",
   "execution_count": 6,
   "id": "2fc3dcad",
   "metadata": {},
   "outputs": [
    {
     "data": {
      "text/plain": [
       "array([ 6,  7,  8,  9, 10, 11, 12, 13, 14, 15, 16])"
      ]
     },
     "execution_count": 6,
     "metadata": {},
     "output_type": "execute_result"
    }
   ],
   "source": [
    "extracted_elements=array_2[5:16]\n",
    "extracted_elements"
   ]
  },
  {
   "cell_type": "markdown",
   "id": "4fd2ada7",
   "metadata": {},
   "source": [
    "# Exercise 3"
   ]
  },
  {
   "cell_type": "code",
   "execution_count": 7,
   "id": "8bfaaa3c",
   "metadata": {},
   "outputs": [
    {
     "data": {
      "text/plain": [
       "apples     3\n",
       "bananas    2\n",
       "oranges    1\n",
       "dtype: int64"
      ]
     },
     "execution_count": 7,
     "metadata": {},
     "output_type": "execute_result"
    }
   ],
   "source": [
    "fruits = pd.Series({'apples': 3, 'bananas': 2, 'oranges': 1})\n",
    "fruits"
   ]
  },
  {
   "cell_type": "code",
   "execution_count": 8,
   "id": "aaa34c7f",
   "metadata": {},
   "outputs": [
    {
     "data": {
      "text/plain": [
       "apples     3\n",
       "bananas    2\n",
       "oranges    1\n",
       "pears      4\n",
       "dtype: int64"
      ]
     },
     "execution_count": 8,
     "metadata": {},
     "output_type": "execute_result"
    }
   ],
   "source": [
    "fruits['pears'] = 4\n",
    "fruits"
   ]
  },
  {
   "cell_type": "markdown",
   "id": "1349f920",
   "metadata": {},
   "source": [
    "# Exercise 4"
   ]
  },
  {
   "cell_type": "code",
   "execution_count": 9,
   "id": "4f54fa0a",
   "metadata": {},
   "outputs": [
    {
     "name": "stdout",
     "output_type": "stream",
     "text": [
      "      name  age  gender\n",
      "0     Ziya   26  Female\n",
      "1     Niom   32    Male\n",
      "2  Nasriya   29  Female\n",
      "3   Darsan   24    Male\n",
      "4    Vaiga   28  Female\n",
      "5    Himal   35    Male\n",
      "6   Aleena   30  Female\n",
      "7    Davis   27    Male\n",
      "8     Miya   31  Female\n",
      "9    Rocky   33    Male\n"
     ]
    }
   ],
   "source": [
    "data = {\n",
    "    \"name\": [\"Ziya\", \"Niom\", \"Nasriya\", \"Darsan\", \"Vaiga\", \"Himal\", \"Aleena\", \"Davis\", \"Miya\", \"Rocky\"],\n",
    "    \"age\": [26, 32, 29, 24, 28, 35, 30, 27, 31, 33],\n",
    "    \"gender\": [\"Female\", \"Male\", \"Female\", \"Male\", \"Female\", \"Male\", \"Female\", \"Male\", \"Female\", \"Male\"]\n",
    "}\n",
    "df = pd.DataFrame(data)\n",
    "print(df)\n"
   ]
  },
  {
   "cell_type": "markdown",
   "id": "a6466c63",
   "metadata": {},
   "source": [
    "# Exercise 5"
   ]
  },
  {
   "cell_type": "code",
   "execution_count": 10,
   "id": "4bba6747",
   "metadata": {},
   "outputs": [
    {
     "name": "stdout",
     "output_type": "stream",
     "text": [
      "      name  age  gender  occupation\n",
      "0     Ziya   26  Female  Programmer\n",
      "1     Niom   32    Male     Manager\n",
      "2  Nasriya   29  Female     Analyst\n",
      "3   Darsan   24    Male     Manager\n",
      "4    Vaiga   28  Female     Analyst\n",
      "5    Himal   35    Male  Programmer\n",
      "6   Aleena   30  Female     Analyst\n",
      "7    Davis   27    Male     Manager\n",
      "8     Miya   31  Female     Analyst\n",
      "9    Rocky   33    Male  Programmer\n"
     ]
    }
   ],
   "source": [
    "df['occupation'] = [\"Programmer\", \"Manager\", \"Analyst\",\"Manager\",\"Analyst\",\"Programmer\",\"Analyst\",\"Manager\",\"Analyst\",\"Programmer\"]\n",
    "print(df)"
   ]
  },
  {
   "cell_type": "markdown",
   "id": "0be4ac68",
   "metadata": {},
   "source": [
    "# Exercise 6"
   ]
  },
  {
   "cell_type": "code",
   "execution_count": 11,
   "id": "7652e6f8",
   "metadata": {},
   "outputs": [
    {
     "data": {
      "text/html": [
       "<div>\n",
       "<style scoped>\n",
       "    .dataframe tbody tr th:only-of-type {\n",
       "        vertical-align: middle;\n",
       "    }\n",
       "\n",
       "    .dataframe tbody tr th {\n",
       "        vertical-align: top;\n",
       "    }\n",
       "\n",
       "    .dataframe thead th {\n",
       "        text-align: right;\n",
       "    }\n",
       "</style>\n",
       "<table border=\"1\" class=\"dataframe\">\n",
       "  <thead>\n",
       "    <tr style=\"text-align: right;\">\n",
       "      <th></th>\n",
       "      <th>name</th>\n",
       "      <th>age</th>\n",
       "      <th>gender</th>\n",
       "      <th>occupation</th>\n",
       "    </tr>\n",
       "  </thead>\n",
       "  <tbody>\n",
       "    <tr>\n",
       "      <th>1</th>\n",
       "      <td>Niom</td>\n",
       "      <td>32</td>\n",
       "      <td>Male</td>\n",
       "      <td>Manager</td>\n",
       "    </tr>\n",
       "    <tr>\n",
       "      <th>5</th>\n",
       "      <td>Himal</td>\n",
       "      <td>35</td>\n",
       "      <td>Male</td>\n",
       "      <td>Programmer</td>\n",
       "    </tr>\n",
       "    <tr>\n",
       "      <th>6</th>\n",
       "      <td>Aleena</td>\n",
       "      <td>30</td>\n",
       "      <td>Female</td>\n",
       "      <td>Analyst</td>\n",
       "    </tr>\n",
       "    <tr>\n",
       "      <th>8</th>\n",
       "      <td>Miya</td>\n",
       "      <td>31</td>\n",
       "      <td>Female</td>\n",
       "      <td>Analyst</td>\n",
       "    </tr>\n",
       "    <tr>\n",
       "      <th>9</th>\n",
       "      <td>Rocky</td>\n",
       "      <td>33</td>\n",
       "      <td>Male</td>\n",
       "      <td>Programmer</td>\n",
       "    </tr>\n",
       "  </tbody>\n",
       "</table>\n",
       "</div>"
      ],
      "text/plain": [
       "     name  age  gender  occupation\n",
       "1    Niom   32    Male     Manager\n",
       "5   Himal   35    Male  Programmer\n",
       "6  Aleena   30  Female     Analyst\n",
       "8    Miya   31  Female     Analyst\n",
       "9   Rocky   33    Male  Programmer"
      ]
     },
     "execution_count": 11,
     "metadata": {},
     "output_type": "execute_result"
    }
   ],
   "source": [
    "selected_rows = df[df['age'] >= 30]\n",
    "selected_rows"
   ]
  },
  {
   "cell_type": "markdown",
   "id": "bdbe1f8e",
   "metadata": {},
   "source": [
    "# Exercise 7"
   ]
  },
  {
   "cell_type": "code",
   "execution_count": 12,
   "id": "bc3fae2c",
   "metadata": {},
   "outputs": [
    {
     "name": "stdout",
     "output_type": "stream",
     "text": [
      "      name  age  gender  occupation\n",
      "0     Ziya   26  Female  Programmer\n",
      "1     Niom   32    Male     Manager\n",
      "2  Nasriya   29  Female     Analyst\n",
      "3   Darsan   24    Male     Manager\n",
      "4    Vaiga   28  Female     Analyst\n",
      "5    Himal   35    Male  Programmer\n",
      "6   Aleena   30  Female     Analyst\n",
      "7    Davis   27    Male     Manager\n",
      "8     Miya   31  Female     Analyst\n",
      "9    Rocky   33    Male  Programmer\n"
     ]
    }
   ],
   "source": [
    "df.to_csv(\"dataframe.csv\", index=False)\n",
    "df_read = pd.read_csv(\"dataframe.csv\")\n",
    "print(df_read)"
   ]
  },
  {
   "cell_type": "code",
   "execution_count": null,
   "id": "007feb9d",
   "metadata": {},
   "outputs": [],
   "source": []
  }
 ],
 "metadata": {
  "kernelspec": {
   "display_name": "Python 3 (ipykernel)",
   "language": "python",
   "name": "python3"
  },
  "language_info": {
   "codemirror_mode": {
    "name": "ipython",
    "version": 3
   },
   "file_extension": ".py",
   "mimetype": "text/x-python",
   "name": "python",
   "nbconvert_exporter": "python",
   "pygments_lexer": "ipython3",
   "version": "3.10.9"
  }
 },
 "nbformat": 4,
 "nbformat_minor": 5
}
